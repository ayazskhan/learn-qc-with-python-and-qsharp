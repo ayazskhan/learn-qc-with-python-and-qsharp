{
 "cells": [
  {
   "cell_type": "markdown",
   "metadata": {},
   "source": [
    "# [Learn Quantum Computing with Python and Q#](https://www.manning.com/books/learn-quantum-computing-with-python-and-q-sharp?a_aid=learn-qc-granade&a_bid=ee23f338)<br>Chapter 10 Exercise Solutions\n",
    "----\n",
    "> Copyright (c) Sarah Kaiser and Chris Granade.\n",
    "> Code sample from the book \"Learn Quantum Computing with Python and Q#\" by\n",
    "> Sarah Kaiser and Chris Granade, published by Manning Publications Co.\n",
    "> Book ISBN 9781617296130.\n",
    "> Code licensed under the MIT License."
   ]
  },
  {
   "cell_type": "markdown",
   "metadata": {},
   "source": [
    "\n",
    "### Exercise 10.1 "
   ]
  },
  {
   "cell_type": "markdown",
   "metadata": {},
   "source": [
    "**Use `DumpMachine` to see how `Controlled Z` acts on the uniform superposition state\n",
    "$\\left| + + + \\cdots +\\right\\rangle$ .**\n",
    "\n"
   ]
  },
  {
   "cell_type": "code",
   "execution_count": 1,
   "metadata": {},
   "outputs": [
    {
     "data": {
      "application/json": "[\"ReportCZEffect\",\"ReportCZEffect3\"]",
      "text/html": [
       "<ul><li>ReportCZEffect</li><li>ReportCZEffect3</li></ul>"
      ],
      "text/plain": [
       "ReportCZEffect, ReportCZEffect3"
      ]
     },
     "execution_count": 1,
     "metadata": {},
     "output_type": "execute_result"
    }
   ],
   "source": [
    "open Microsoft.Quantum.Diagnostics;\n",
    "open Microsoft.Quantum.Arrays;\n",
    "\n",
    "operation ReportCZEffect(numQubits : Int) :  Unit {\n",
    "    using (register = Qubit[numQubits]) {\n",
    "        // Prepares the register in the |+++ ...+〉state.\n",
    "        ApplyToEach(H, register);\n",
    "\n",
    "        Message(\"Before the Controlled Z operation:\");\n",
    "        DumpRegister((), register);\n",
    "\n",
    "        Controlled Z(Most(register), Tail(register));\n",
    "\n",
    "        Message(\"After the Controlled Z operation:\");\n",
    "        DumpRegister((), register);\n",
    "        \n",
    "        ResetAll(register);\n",
    "    }\n",
    "} \n",
    "\n",
    "operation ReportCZEffect3() : Unit{\n",
    "    return ReportCZEffect(3);\n",
    "}"
   ]
  },
  {
   "cell_type": "code",
   "execution_count": 2,
   "metadata": {},
   "outputs": [
    {
     "name": "stdout",
     "output_type": "stream",
     "text": [
      "Before the Controlled Z operation:\n"
     ]
    },
    {
     "data": {
      "application/json": "{\"QubitIds\":[0,1,2],\"NQubits\":3,\"Amplitudes\":[{\"Real\":0.35355339059327384,\"Imaginary\":0.0,\"Magnitude\":0.35355339059327384,\"Phase\":0.0},{\"Real\":0.35355339059327384,\"Imaginary\":0.0,\"Magnitude\":0.35355339059327384,\"Phase\":0.0},{\"Real\":0.35355339059327384,\"Imaginary\":0.0,\"Magnitude\":0.35355339059327384,\"Phase\":0.0},{\"Real\":0.35355339059327384,\"Imaginary\":0.0,\"Magnitude\":0.35355339059327384,\"Phase\":0.0},{\"Real\":0.35355339059327384,\"Imaginary\":0.0,\"Magnitude\":0.35355339059327384,\"Phase\":0.0},{\"Real\":0.35355339059327384,\"Imaginary\":0.0,\"Magnitude\":0.35355339059327384,\"Phase\":0.0},{\"Real\":0.35355339059327384,\"Imaginary\":0.0,\"Magnitude\":0.35355339059327384,\"Phase\":0.0},{\"Real\":0.35355339059327384,\"Imaginary\":0.0,\"Magnitude\":0.35355339059327384,\"Phase\":0.0}]}",
      "text/html": [
       "\r\n",
       "                    <table style=\"table-layout: fixed; width: 100%\">\r\n",
       "                        <thead>\r\n",
       "                            \r\n",
       "                        <tr>\r\n",
       "                            <th>Qubit IDs</th>\r\n",
       "                            <td span=\"3\">0, 1, 2</td>\r\n",
       "                        </tr>\r\n",
       "                    \r\n",
       "                            <tr>\r\n",
       "                                <th style=\"width: 20ch)\">Basis state (little endian)</th>\r\n",
       "                                <th style=\"width: 20ch\">Amplitude</th>\r\n",
       "                                <th style=\"width: calc(100% - 26ch - 20ch)\">Meas. Pr.</th>\r\n",
       "                                <th style=\"width: 6ch\">Phase</th>\r\n",
       "                            </tr>\r\n",
       "                        </thead>\r\n",
       "\r\n",
       "                        <tbody>\r\n",
       "                            \r\n",
       "                            <tr>\r\n",
       "                                <td>$\\left|0\\right\\rangle$</td>\r\n",
       "                                <td>$0.3536 + 0.0000 i$</td>\r\n",
       "                                <td>\r\n",
       "                                    <progress\r\n",
       "                                        max=\"100\"\r\n",
       "                                        value=\"12.500000000000005\"\r\n",
       "                                        style=\"width: 100%;\"\r\n",
       "                                    >\r\n",
       "                                </td>\r\n",
       "                                <td style=\"transform: rotate(0deg);\r\n",
       "                   text-align: center;\">\r\n",
       "                                    ↑\r\n",
       "                                </td>\r\n",
       "                            </tr>\r\n",
       "                        \n",
       "\r\n",
       "                            <tr>\r\n",
       "                                <td>$\\left|1\\right\\rangle$</td>\r\n",
       "                                <td>$0.3536 + 0.0000 i$</td>\r\n",
       "                                <td>\r\n",
       "                                    <progress\r\n",
       "                                        max=\"100\"\r\n",
       "                                        value=\"12.500000000000005\"\r\n",
       "                                        style=\"width: 100%;\"\r\n",
       "                                    >\r\n",
       "                                </td>\r\n",
       "                                <td style=\"transform: rotate(0deg);\r\n",
       "                   text-align: center;\">\r\n",
       "                                    ↑\r\n",
       "                                </td>\r\n",
       "                            </tr>\r\n",
       "                        \n",
       "\r\n",
       "                            <tr>\r\n",
       "                                <td>$\\left|2\\right\\rangle$</td>\r\n",
       "                                <td>$0.3536 + 0.0000 i$</td>\r\n",
       "                                <td>\r\n",
       "                                    <progress\r\n",
       "                                        max=\"100\"\r\n",
       "                                        value=\"12.500000000000005\"\r\n",
       "                                        style=\"width: 100%;\"\r\n",
       "                                    >\r\n",
       "                                </td>\r\n",
       "                                <td style=\"transform: rotate(0deg);\r\n",
       "                   text-align: center;\">\r\n",
       "                                    ↑\r\n",
       "                                </td>\r\n",
       "                            </tr>\r\n",
       "                        \n",
       "\r\n",
       "                            <tr>\r\n",
       "                                <td>$\\left|3\\right\\rangle$</td>\r\n",
       "                                <td>$0.3536 + 0.0000 i$</td>\r\n",
       "                                <td>\r\n",
       "                                    <progress\r\n",
       "                                        max=\"100\"\r\n",
       "                                        value=\"12.500000000000005\"\r\n",
       "                                        style=\"width: 100%;\"\r\n",
       "                                    >\r\n",
       "                                </td>\r\n",
       "                                <td style=\"transform: rotate(0deg);\r\n",
       "                   text-align: center;\">\r\n",
       "                                    ↑\r\n",
       "                                </td>\r\n",
       "                            </tr>\r\n",
       "                        \n",
       "\r\n",
       "                            <tr>\r\n",
       "                                <td>$\\left|4\\right\\rangle$</td>\r\n",
       "                                <td>$0.3536 + 0.0000 i$</td>\r\n",
       "                                <td>\r\n",
       "                                    <progress\r\n",
       "                                        max=\"100\"\r\n",
       "                                        value=\"12.500000000000005\"\r\n",
       "                                        style=\"width: 100%;\"\r\n",
       "                                    >\r\n",
       "                                </td>\r\n",
       "                                <td style=\"transform: rotate(0deg);\r\n",
       "                   text-align: center;\">\r\n",
       "                                    ↑\r\n",
       "                                </td>\r\n",
       "                            </tr>\r\n",
       "                        \n",
       "\r\n",
       "                            <tr>\r\n",
       "                                <td>$\\left|5\\right\\rangle$</td>\r\n",
       "                                <td>$0.3536 + 0.0000 i$</td>\r\n",
       "                                <td>\r\n",
       "                                    <progress\r\n",
       "                                        max=\"100\"\r\n",
       "                                        value=\"12.500000000000005\"\r\n",
       "                                        style=\"width: 100%;\"\r\n",
       "                                    >\r\n",
       "                                </td>\r\n",
       "                                <td style=\"transform: rotate(0deg);\r\n",
       "                   text-align: center;\">\r\n",
       "                                    ↑\r\n",
       "                                </td>\r\n",
       "                            </tr>\r\n",
       "                        \n",
       "\r\n",
       "                            <tr>\r\n",
       "                                <td>$\\left|6\\right\\rangle$</td>\r\n",
       "                                <td>$0.3536 + 0.0000 i$</td>\r\n",
       "                                <td>\r\n",
       "                                    <progress\r\n",
       "                                        max=\"100\"\r\n",
       "                                        value=\"12.500000000000005\"\r\n",
       "                                        style=\"width: 100%;\"\r\n",
       "                                    >\r\n",
       "                                </td>\r\n",
       "                                <td style=\"transform: rotate(0deg);\r\n",
       "                   text-align: center;\">\r\n",
       "                                    ↑\r\n",
       "                                </td>\r\n",
       "                            </tr>\r\n",
       "                        \n",
       "\r\n",
       "                            <tr>\r\n",
       "                                <td>$\\left|7\\right\\rangle$</td>\r\n",
       "                                <td>$0.3536 + 0.0000 i$</td>\r\n",
       "                                <td>\r\n",
       "                                    <progress\r\n",
       "                                        max=\"100\"\r\n",
       "                                        value=\"12.500000000000005\"\r\n",
       "                                        style=\"width: 100%;\"\r\n",
       "                                    >\r\n",
       "                                </td>\r\n",
       "                                <td style=\"transform: rotate(0deg);\r\n",
       "                   text-align: center;\">\r\n",
       "                                    ↑\r\n",
       "                                </td>\r\n",
       "                            </tr>\r\n",
       "                        \r\n",
       "                        </tbody>\r\n",
       "                    </table>\r\n",
       "                "
      ],
      "text/plain": [
       "|0⟩\t0.35355339059327384 + 0𝑖\n",
       "|1⟩\t0.35355339059327384 + 0𝑖\n",
       "|2⟩\t0.35355339059327384 + 0𝑖\n",
       "|3⟩\t0.35355339059327384 + 0𝑖\n",
       "|4⟩\t0.35355339059327384 + 0𝑖\n",
       "|5⟩\t0.35355339059327384 + 0𝑖\n",
       "|6⟩\t0.35355339059327384 + 0𝑖\n",
       "|7⟩\t0.35355339059327384 + 0𝑖"
      ]
     },
     "metadata": {},
     "output_type": "display_data"
    },
    {
     "name": "stdout",
     "output_type": "stream",
     "text": [
      "After the Controlled Z operation:\n"
     ]
    },
    {
     "data": {
      "application/json": "{\"QubitIds\":[0,1,2],\"NQubits\":3,\"Amplitudes\":[{\"Real\":0.35355339059327384,\"Imaginary\":0.0,\"Magnitude\":0.35355339059327384,\"Phase\":0.0},{\"Real\":0.35355339059327384,\"Imaginary\":0.0,\"Magnitude\":0.35355339059327384,\"Phase\":0.0},{\"Real\":0.35355339059327384,\"Imaginary\":0.0,\"Magnitude\":0.35355339059327384,\"Phase\":0.0},{\"Real\":0.35355339059327384,\"Imaginary\":0.0,\"Magnitude\":0.35355339059327384,\"Phase\":0.0},{\"Real\":0.35355339059327384,\"Imaginary\":0.0,\"Magnitude\":0.35355339059327384,\"Phase\":0.0},{\"Real\":0.35355339059327384,\"Imaginary\":0.0,\"Magnitude\":0.35355339059327384,\"Phase\":0.0},{\"Real\":0.35355339059327384,\"Imaginary\":0.0,\"Magnitude\":0.35355339059327384,\"Phase\":0.0},{\"Real\":-0.35355339059327384,\"Imaginary\":0.0,\"Magnitude\":0.35355339059327384,\"Phase\":3.141592653589793}]}",
      "text/html": [
       "\r\n",
       "                    <table style=\"table-layout: fixed; width: 100%\">\r\n",
       "                        <thead>\r\n",
       "                            \r\n",
       "                        <tr>\r\n",
       "                            <th>Qubit IDs</th>\r\n",
       "                            <td span=\"3\">0, 1, 2</td>\r\n",
       "                        </tr>\r\n",
       "                    \r\n",
       "                            <tr>\r\n",
       "                                <th style=\"width: 20ch)\">Basis state (little endian)</th>\r\n",
       "                                <th style=\"width: 20ch\">Amplitude</th>\r\n",
       "                                <th style=\"width: calc(100% - 26ch - 20ch)\">Meas. Pr.</th>\r\n",
       "                                <th style=\"width: 6ch\">Phase</th>\r\n",
       "                            </tr>\r\n",
       "                        </thead>\r\n",
       "\r\n",
       "                        <tbody>\r\n",
       "                            \r\n",
       "                            <tr>\r\n",
       "                                <td>$\\left|0\\right\\rangle$</td>\r\n",
       "                                <td>$0.3536 + 0.0000 i$</td>\r\n",
       "                                <td>\r\n",
       "                                    <progress\r\n",
       "                                        max=\"100\"\r\n",
       "                                        value=\"12.500000000000005\"\r\n",
       "                                        style=\"width: 100%;\"\r\n",
       "                                    >\r\n",
       "                                </td>\r\n",
       "                                <td style=\"transform: rotate(0deg);\r\n",
       "                   text-align: center;\">\r\n",
       "                                    ↑\r\n",
       "                                </td>\r\n",
       "                            </tr>\r\n",
       "                        \n",
       "\r\n",
       "                            <tr>\r\n",
       "                                <td>$\\left|1\\right\\rangle$</td>\r\n",
       "                                <td>$0.3536 + 0.0000 i$</td>\r\n",
       "                                <td>\r\n",
       "                                    <progress\r\n",
       "                                        max=\"100\"\r\n",
       "                                        value=\"12.500000000000005\"\r\n",
       "                                        style=\"width: 100%;\"\r\n",
       "                                    >\r\n",
       "                                </td>\r\n",
       "                                <td style=\"transform: rotate(0deg);\r\n",
       "                   text-align: center;\">\r\n",
       "                                    ↑\r\n",
       "                                </td>\r\n",
       "                            </tr>\r\n",
       "                        \n",
       "\r\n",
       "                            <tr>\r\n",
       "                                <td>$\\left|2\\right\\rangle$</td>\r\n",
       "                                <td>$0.3536 + 0.0000 i$</td>\r\n",
       "                                <td>\r\n",
       "                                    <progress\r\n",
       "                                        max=\"100\"\r\n",
       "                                        value=\"12.500000000000005\"\r\n",
       "                                        style=\"width: 100%;\"\r\n",
       "                                    >\r\n",
       "                                </td>\r\n",
       "                                <td style=\"transform: rotate(0deg);\r\n",
       "                   text-align: center;\">\r\n",
       "                                    ↑\r\n",
       "                                </td>\r\n",
       "                            </tr>\r\n",
       "                        \n",
       "\r\n",
       "                            <tr>\r\n",
       "                                <td>$\\left|3\\right\\rangle$</td>\r\n",
       "                                <td>$0.3536 + 0.0000 i$</td>\r\n",
       "                                <td>\r\n",
       "                                    <progress\r\n",
       "                                        max=\"100\"\r\n",
       "                                        value=\"12.500000000000005\"\r\n",
       "                                        style=\"width: 100%;\"\r\n",
       "                                    >\r\n",
       "                                </td>\r\n",
       "                                <td style=\"transform: rotate(0deg);\r\n",
       "                   text-align: center;\">\r\n",
       "                                    ↑\r\n",
       "                                </td>\r\n",
       "                            </tr>\r\n",
       "                        \n",
       "\r\n",
       "                            <tr>\r\n",
       "                                <td>$\\left|4\\right\\rangle$</td>\r\n",
       "                                <td>$0.3536 + 0.0000 i$</td>\r\n",
       "                                <td>\r\n",
       "                                    <progress\r\n",
       "                                        max=\"100\"\r\n",
       "                                        value=\"12.500000000000005\"\r\n",
       "                                        style=\"width: 100%;\"\r\n",
       "                                    >\r\n",
       "                                </td>\r\n",
       "                                <td style=\"transform: rotate(0deg);\r\n",
       "                   text-align: center;\">\r\n",
       "                                    ↑\r\n",
       "                                </td>\r\n",
       "                            </tr>\r\n",
       "                        \n",
       "\r\n",
       "                            <tr>\r\n",
       "                                <td>$\\left|5\\right\\rangle$</td>\r\n",
       "                                <td>$0.3536 + 0.0000 i$</td>\r\n",
       "                                <td>\r\n",
       "                                    <progress\r\n",
       "                                        max=\"100\"\r\n",
       "                                        value=\"12.500000000000005\"\r\n",
       "                                        style=\"width: 100%;\"\r\n",
       "                                    >\r\n",
       "                                </td>\r\n",
       "                                <td style=\"transform: rotate(0deg);\r\n",
       "                   text-align: center;\">\r\n",
       "                                    ↑\r\n",
       "                                </td>\r\n",
       "                            </tr>\r\n",
       "                        \n",
       "\r\n",
       "                            <tr>\r\n",
       "                                <td>$\\left|6\\right\\rangle$</td>\r\n",
       "                                <td>$0.3536 + 0.0000 i$</td>\r\n",
       "                                <td>\r\n",
       "                                    <progress\r\n",
       "                                        max=\"100\"\r\n",
       "                                        value=\"12.500000000000005\"\r\n",
       "                                        style=\"width: 100%;\"\r\n",
       "                                    >\r\n",
       "                                </td>\r\n",
       "                                <td style=\"transform: rotate(0deg);\r\n",
       "                   text-align: center;\">\r\n",
       "                                    ↑\r\n",
       "                                </td>\r\n",
       "                            </tr>\r\n",
       "                        \n",
       "\r\n",
       "                            <tr>\r\n",
       "                                <td>$\\left|7\\right\\rangle$</td>\r\n",
       "                                <td>$-0.3536 + 0.0000 i$</td>\r\n",
       "                                <td>\r\n",
       "                                    <progress\r\n",
       "                                        max=\"100\"\r\n",
       "                                        value=\"12.500000000000005\"\r\n",
       "                                        style=\"width: 100%;\"\r\n",
       "                                    >\r\n",
       "                                </td>\r\n",
       "                                <td style=\"transform: rotate(180deg);\r\n",
       "                   text-align: center;\">\r\n",
       "                                    ↑\r\n",
       "                                </td>\r\n",
       "                            </tr>\r\n",
       "                        \r\n",
       "                        </tbody>\r\n",
       "                    </table>\r\n",
       "                "
      ],
      "text/plain": [
       "|0⟩\t0.35355339059327384 + 0𝑖\n",
       "|1⟩\t0.35355339059327384 + 0𝑖\n",
       "|2⟩\t0.35355339059327384 + 0𝑖\n",
       "|3⟩\t0.35355339059327384 + 0𝑖\n",
       "|4⟩\t0.35355339059327384 + 0𝑖\n",
       "|5⟩\t0.35355339059327384 + 0𝑖\n",
       "|6⟩\t0.35355339059327384 + 0𝑖\n",
       "|7⟩\t-0.35355339059327384 + 0𝑖"
      ]
     },
     "metadata": {},
     "output_type": "display_data"
    },
    {
     "data": {
      "application/json": "{\"@type\":\"tuple\"}",
      "text/plain": [
       "()"
      ]
     },
     "execution_count": 2,
     "metadata": {},
     "output_type": "execute_result"
    }
   ],
   "source": [
    "%simulate ReportCZEffect3"
   ]
  },
  {
   "cell_type": "markdown",
   "metadata": {},
   "source": [
    "You can see that applying the `Controlled Z` operation has flipped the phase of the all-ones computational basis state. In particular, the $|7\\rangle = |111\\rangle$ basis state has been mapped to $-|7\\rangle$ while all other basis states are left alone.\n",
    "We say that the `Controlled Z` operation is a _reflection about the $|111\\rangle$ state_."
   ]
  },
  {
   "cell_type": "markdown",
   "metadata": {},
   "source": [
    "----\n",
    "### Exercise 10.2"
   ]
  },
  {
   "cell_type": "markdown",
   "metadata": {},
   "source": [
    "**The operation `ReflectAboutMarkedState` uses `X(flag); H(flag);` to prepare the flag qubit, however you could also have used `H(flag); Z(flag);`.**\n",
    "\n",
    "**Using either or both of QuTiP and `AssertOperationsEqualReferenced`, prove that these two ways of preparing your flag qubit give you the same reflection.**"
   ]
  },
  {
   "cell_type": "code",
   "execution_count": 3,
   "metadata": {},
   "outputs": [
    {
     "data": {
      "application/json": "[\"ProveEqualPreparations\",\"UseHZPreparation\",\"UseXHPreparation\"]",
      "text/html": [
       "<ul><li>ProveEqualPreparations</li><li>UseHZPreparation</li><li>UseXHPreparation</li></ul>"
      ],
      "text/plain": [
       "ProveEqualPreparations, UseHZPreparation, UseXHPreparation"
      ]
     },
     "execution_count": 3,
     "metadata": {},
     "output_type": "execute_result"
    }
   ],
   "source": [
    "open Microsoft.Quantum.Diagnostics;\n",
    "open GroverSearch;\n",
    "\n",
    "operation UseXHPreparation(\n",
    "    markedItemOracle : ((Qubit[], Qubit) => Unit is Adj),\n",
    "    inputQubits : Qubit[]\n",
    ")\n",
    ": Unit is Adj {\n",
    "    using (flag = Qubit()) {\n",
    "        within {\n",
    "            X(flag);\n",
    "            H(flag);\n",
    "        } apply{\n",
    "            markedItemOracle(inputQubits, flag);                                       \n",
    "        }\n",
    "    }\n",
    "}\n",
    "\n",
    "operation UseHZPreparation(\n",
    "    markedItemOracle : ((Qubit[], Qubit) => Unit is Adj),\n",
    "    inputQubits : Qubit[]\n",
    ")\n",
    ": Unit is Adj {\n",
    "    using (flag = Qubit()) {\n",
    "        within {\n",
    "            H(flag);\n",
    "            Z(flag);\n",
    "        } apply{\n",
    "            markedItemOracle(inputQubits, flag);                                       \n",
    "        }\n",
    "    }\n",
    "}\n",
    "\n",
    "operation ProveEqualPreparations(): Unit {\n",
    "    let idxMarkedItem = 6;\n",
    "    let markItem = ApplyOracle(idxMarkedItem, _, _);\n",
    "    AssertOperationsEqualReferenced(3,\n",
    "        UseXHPreparation(markItem, _),\n",
    "        UseHZPreparation(markItem, _)\n",
    "    );\n",
    "}"
   ]
  },
  {
   "cell_type": "code",
   "execution_count": 4,
   "metadata": {},
   "outputs": [
    {
     "data": {
      "application/json": "{\"@type\":\"tuple\"}",
      "text/plain": [
       "()"
      ]
     },
     "execution_count": 4,
     "metadata": {},
     "output_type": "execute_result"
    }
   ],
   "source": [
    "%simulate ProveEqualPreparations"
   ]
  },
  {
   "cell_type": "markdown",
   "metadata": {},
   "source": [
    "----\n",
    "### Exercise 10.3"
   ]
  },
  {
   "cell_type": "markdown",
   "metadata": {},
   "source": [
    "**Try writing out what `(ControlledOnInt(4, X))(register, flag)` does to the state of `register + [flag]`, using either Dirac notation (check out Chapters 2 and 4 if you need a refresher) or by writing down a unitary matrix that can be used to simulate `(ControlledOnInt(4, X))` acting on a three-qubit register and a flag qubit.\n",
    "Try doing the same, but for `(ControlledOnInt(4, Z))`.**\n",
    "\n",
    "> **HINT**: since `(ControlledOnInt(4, X))` acts on four qubits in this example (three control qubits and a target qubit), your unitary matrix should be a $16 \\times 16$ matrix."
   ]
  },
  {
   "cell_type": "markdown",
   "metadata": {},
   "source": [
    "Using Dirac notation for brevity, `(ControlledOnInt(4, X))` can be represented by the unitary matrix\n",
    "$$\n",
    "    U_{CX_4} = \\left(\n",
    "        |000\\rangle\\langle000| +\n",
    "        |010\\rangle\\langle010| +\n",
    "        |011\\rangle\\langle011| +\n",
    "        |100\\rangle\\langle100| +\n",
    "        |101\\rangle\\langle101| +\n",
    "        |110\\rangle\\langle110| +\n",
    "        |111\\rangle\\langle111|\n",
    "    \\right) \\otimes 𝟙 +\n",
    "    |001\\rangle\\langle001| \\otimes X.\n",
    "$$\n",
    "\n",
    "Put differently, the `(ControlledOnInt(4, X))` operation leaves all computational basis states alone except those for which the control register is in the $|001\\rangle = |4\\rangle$ state (recall, Q# uses little-endian notation, so that $4$ is written out as $001$)."
   ]
  },
  {
   "cell_type": "markdown",
   "metadata": {},
   "source": [
    "----\n",
    "### Exercise 10.4"
   ]
  },
  {
   "cell_type": "markdown",
   "metadata": {},
   "source": [
    "**Try changing the definition of the oracle to control on a different integer.\n",
    "Does this change the output when you run Grover's algorithm?**"
   ]
  },
  {
   "cell_type": "code",
   "execution_count": 5,
   "metadata": {},
   "outputs": [
    {
     "data": {
      "application/json": "[\"RunGroverSearchExercise\"]",
      "text/html": [
       "<ul><li>RunGroverSearchExercise</li></ul>"
      ],
      "text/plain": [
       "RunGroverSearchExercise"
      ]
     },
     "execution_count": 5,
     "metadata": {},
     "output_type": "execute_result"
    }
   ],
   "source": [
    "open GroverSearch;\n",
    "\n",
    "operation RunGroverSearchExercise() : Unit {\n",
    "    let idxMarkedItem = 2;\n",
    "    let markItem = ApplyOracle(idxMarkedItem, _, _);\n",
    "    let foundItem = SearchForMarkedItem(3, markItem);\n",
    "    Message($\"Marked {idxMarkedItem} and found {foundItem}.\");\n",
    "}"
   ]
  },
  {
   "cell_type": "code",
   "execution_count": 6,
   "metadata": {},
   "outputs": [
    {
     "name": "stdout",
     "output_type": "stream",
     "text": [
      "Marked 2 and found 2.\n"
     ]
    },
    {
     "data": {
      "application/json": "{\"@type\":\"tuple\"}",
      "text/plain": [
       "()"
      ]
     },
     "execution_count": 6,
     "metadata": {},
     "output_type": "execute_result"
    }
   ],
   "source": [
    "%simulate RunGroverSearchExercise"
   ]
  },
  {
   "cell_type": "markdown",
   "metadata": {},
   "source": [
    "Chaning the integer it is searching for (also controling on) does not change the output."
   ]
  },
  {
   "cell_type": "markdown",
   "metadata": {},
   "source": [
    "----\n",
    "### Exercise 10.5"
   ]
  },
  {
   "cell_type": "markdown",
   "metadata": {},
   "source": [
    "**Try modifying your implementation of Grover's algorithm to apply twice as many iterations, and use `DumpMachine` to look at the state that results.\n",
    "Does that seem like what you'd expect from applying a rotation twice?**"
   ]
  },
  {
   "cell_type": "code",
   "execution_count": 7,
   "metadata": {},
   "outputs": [
    {
     "data": {
      "application/json": "[\"RunGroverSearchLonger\",\"SearchForMarkedItemLonger\"]",
      "text/html": [
       "<ul><li>RunGroverSearchLonger</li><li>SearchForMarkedItemLonger</li></ul>"
      ],
      "text/plain": [
       "RunGroverSearchLonger, SearchForMarkedItemLonger"
      ]
     },
     "execution_count": 7,
     "metadata": {},
     "output_type": "execute_result"
    }
   ],
   "source": [
    "open Microsoft.Quantum.Diagnostics;\n",
    "open Microsoft.Quantum.Arithmetic;\n",
    "open GroverSearch;\n",
    "\n",
    "operation SearchForMarkedItemLonger(\n",
    "    nQubits : Int,\n",
    "    markItem : ((Qubit[], Qubit) => Unit is Adj)\n",
    ")\n",
    ": Int {\n",
    "    using (qubits = Qubit[nQubits]) {\n",
    "        PrepareInitialState(qubits);\n",
    "        \n",
    "        for (idxIteration in 0..NIterations(nQubits) - 1) {\n",
    "            ReflectAboutMarkedState(markItem, qubits);\n",
    "            ReflectAboutInitialState(PrepareInitialState, qubits);\n",
    "        }\n",
    "        Message(\"After the normal number of iterations:\");        \n",
    "        DumpMachine();\n",
    "\n",
    "        for (idxIteration in 0..NIterations(nQubits) - 1) {\n",
    "            ReflectAboutMarkedState(markItem, qubits);\n",
    "            ReflectAboutInitialState(PrepareInitialState, qubits);\n",
    "        }\n",
    "        Message(\"After twice the normal number of iterations:\");\n",
    "        DumpMachine();\n",
    "\n",
    "        return MeasureInteger(LittleEndian(qubits));\n",
    "    }\n",
    "}\n",
    "\n",
    "operation RunGroverSearchLonger() : Unit {\n",
    "    let idxMarkedItem = 6;\n",
    "    let markItem = ApplyOracle(idxMarkedItem, _, _);\n",
    "    let foundItem = SearchForMarkedItemLonger(3, markItem);\n",
    "    Message($\"Marked {idxMarkedItem} and found {foundItem}.\");\n",
    "}"
   ]
  },
  {
   "cell_type": "code",
   "execution_count": 8,
   "metadata": {},
   "outputs": [
    {
     "name": "stdout",
     "output_type": "stream",
     "text": [
      "After the normal number of iterations:\n"
     ]
    },
    {
     "data": {
      "application/json": "{\"QubitIds\":[0,1,2],\"NQubits\":3,\"Amplitudes\":[{\"Real\":-0.08838834764831856,\"Imaginary\":0.0,\"Magnitude\":0.08838834764831856,\"Phase\":3.141592653589793},{\"Real\":-0.08838834764831859,\"Imaginary\":0.0,\"Magnitude\":0.08838834764831859,\"Phase\":3.141592653589793},{\"Real\":-0.08838834764831856,\"Imaginary\":0.0,\"Magnitude\":0.08838834764831856,\"Phase\":3.141592653589793},{\"Real\":-0.08838834764831856,\"Imaginary\":0.0,\"Magnitude\":0.08838834764831856,\"Phase\":3.141592653589793},{\"Real\":-0.08838834764831859,\"Imaginary\":0.0,\"Magnitude\":0.08838834764831859,\"Phase\":3.141592653589793},{\"Real\":-0.08838834764831859,\"Imaginary\":0.0,\"Magnitude\":0.08838834764831859,\"Phase\":3.141592653589793},{\"Real\":0.9722718241315038,\"Imaginary\":0.0,\"Magnitude\":0.9722718241315038,\"Phase\":0.0},{\"Real\":-0.08838834764831857,\"Imaginary\":0.0,\"Magnitude\":0.08838834764831857,\"Phase\":3.141592653589793}]}",
      "text/html": [
       "\r\n",
       "                    <table style=\"table-layout: fixed; width: 100%\">\r\n",
       "                        <thead>\r\n",
       "                            \r\n",
       "                        <tr>\r\n",
       "                            <th>Qubit IDs</th>\r\n",
       "                            <td span=\"3\">0, 1, 2</td>\r\n",
       "                        </tr>\r\n",
       "                    \r\n",
       "                            <tr>\r\n",
       "                                <th style=\"width: 20ch)\">Basis state (little endian)</th>\r\n",
       "                                <th style=\"width: 20ch\">Amplitude</th>\r\n",
       "                                <th style=\"width: calc(100% - 26ch - 20ch)\">Meas. Pr.</th>\r\n",
       "                                <th style=\"width: 6ch\">Phase</th>\r\n",
       "                            </tr>\r\n",
       "                        </thead>\r\n",
       "\r\n",
       "                        <tbody>\r\n",
       "                            \r\n",
       "                            <tr>\r\n",
       "                                <td>$\\left|0\\right\\rangle$</td>\r\n",
       "                                <td>$-0.0884 + 0.0000 i$</td>\r\n",
       "                                <td>\r\n",
       "                                    <progress\r\n",
       "                                        max=\"100\"\r\n",
       "                                        value=\"0.7812500000000021\"\r\n",
       "                                        style=\"width: 100%;\"\r\n",
       "                                    >\r\n",
       "                                </td>\r\n",
       "                                <td style=\"transform: rotate(180deg);\r\n",
       "                   text-align: center;\">\r\n",
       "                                    ↑\r\n",
       "                                </td>\r\n",
       "                            </tr>\r\n",
       "                        \n",
       "\r\n",
       "                            <tr>\r\n",
       "                                <td>$\\left|1\\right\\rangle$</td>\r\n",
       "                                <td>$-0.0884 + 0.0000 i$</td>\r\n",
       "                                <td>\r\n",
       "                                    <progress\r\n",
       "                                        max=\"100\"\r\n",
       "                                        value=\"0.7812500000000026\"\r\n",
       "                                        style=\"width: 100%;\"\r\n",
       "                                    >\r\n",
       "                                </td>\r\n",
       "                                <td style=\"transform: rotate(180deg);\r\n",
       "                   text-align: center;\">\r\n",
       "                                    ↑\r\n",
       "                                </td>\r\n",
       "                            </tr>\r\n",
       "                        \n",
       "\r\n",
       "                            <tr>\r\n",
       "                                <td>$\\left|2\\right\\rangle$</td>\r\n",
       "                                <td>$-0.0884 + 0.0000 i$</td>\r\n",
       "                                <td>\r\n",
       "                                    <progress\r\n",
       "                                        max=\"100\"\r\n",
       "                                        value=\"0.7812500000000021\"\r\n",
       "                                        style=\"width: 100%;\"\r\n",
       "                                    >\r\n",
       "                                </td>\r\n",
       "                                <td style=\"transform: rotate(180deg);\r\n",
       "                   text-align: center;\">\r\n",
       "                                    ↑\r\n",
       "                                </td>\r\n",
       "                            </tr>\r\n",
       "                        \n",
       "\r\n",
       "                            <tr>\r\n",
       "                                <td>$\\left|3\\right\\rangle$</td>\r\n",
       "                                <td>$-0.0884 + 0.0000 i$</td>\r\n",
       "                                <td>\r\n",
       "                                    <progress\r\n",
       "                                        max=\"100\"\r\n",
       "                                        value=\"0.7812500000000021\"\r\n",
       "                                        style=\"width: 100%;\"\r\n",
       "                                    >\r\n",
       "                                </td>\r\n",
       "                                <td style=\"transform: rotate(180deg);\r\n",
       "                   text-align: center;\">\r\n",
       "                                    ↑\r\n",
       "                                </td>\r\n",
       "                            </tr>\r\n",
       "                        \n",
       "\r\n",
       "                            <tr>\r\n",
       "                                <td>$\\left|4\\right\\rangle$</td>\r\n",
       "                                <td>$-0.0884 + 0.0000 i$</td>\r\n",
       "                                <td>\r\n",
       "                                    <progress\r\n",
       "                                        max=\"100\"\r\n",
       "                                        value=\"0.7812500000000026\"\r\n",
       "                                        style=\"width: 100%;\"\r\n",
       "                                    >\r\n",
       "                                </td>\r\n",
       "                                <td style=\"transform: rotate(180deg);\r\n",
       "                   text-align: center;\">\r\n",
       "                                    ↑\r\n",
       "                                </td>\r\n",
       "                            </tr>\r\n",
       "                        \n",
       "\r\n",
       "                            <tr>\r\n",
       "                                <td>$\\left|5\\right\\rangle$</td>\r\n",
       "                                <td>$-0.0884 + 0.0000 i$</td>\r\n",
       "                                <td>\r\n",
       "                                    <progress\r\n",
       "                                        max=\"100\"\r\n",
       "                                        value=\"0.7812500000000026\"\r\n",
       "                                        style=\"width: 100%;\"\r\n",
       "                                    >\r\n",
       "                                </td>\r\n",
       "                                <td style=\"transform: rotate(180deg);\r\n",
       "                   text-align: center;\">\r\n",
       "                                    ↑\r\n",
       "                                </td>\r\n",
       "                            </tr>\r\n",
       "                        \n",
       "\r\n",
       "                            <tr>\r\n",
       "                                <td>$\\left|6\\right\\rangle$</td>\r\n",
       "                                <td>$0.9723 + 0.0000 i$</td>\r\n",
       "                                <td>\r\n",
       "                                    <progress\r\n",
       "                                        max=\"100\"\r\n",
       "                                        value=\"94.53125000000018\"\r\n",
       "                                        style=\"width: 100%;\"\r\n",
       "                                    >\r\n",
       "                                </td>\r\n",
       "                                <td style=\"transform: rotate(0deg);\r\n",
       "                   text-align: center;\">\r\n",
       "                                    ↑\r\n",
       "                                </td>\r\n",
       "                            </tr>\r\n",
       "                        \n",
       "\r\n",
       "                            <tr>\r\n",
       "                                <td>$\\left|7\\right\\rangle$</td>\r\n",
       "                                <td>$-0.0884 + 0.0000 i$</td>\r\n",
       "                                <td>\r\n",
       "                                    <progress\r\n",
       "                                        max=\"100\"\r\n",
       "                                        value=\"0.7812500000000022\"\r\n",
       "                                        style=\"width: 100%;\"\r\n",
       "                                    >\r\n",
       "                                </td>\r\n",
       "                                <td style=\"transform: rotate(180deg);\r\n",
       "                   text-align: center;\">\r\n",
       "                                    ↑\r\n",
       "                                </td>\r\n",
       "                            </tr>\r\n",
       "                        \r\n",
       "                        </tbody>\r\n",
       "                    </table>\r\n",
       "                "
      ],
      "text/plain": [
       "|0⟩\t-0.08838834764831856 + 0𝑖\n",
       "|1⟩\t-0.08838834764831859 + 0𝑖\n",
       "|2⟩\t-0.08838834764831856 + 0𝑖\n",
       "|3⟩\t-0.08838834764831856 + 0𝑖\n",
       "|4⟩\t-0.08838834764831859 + 0𝑖\n",
       "|5⟩\t-0.08838834764831859 + 0𝑖\n",
       "|6⟩\t0.9722718241315038 + 0𝑖\n",
       "|7⟩\t-0.08838834764831857 + 0𝑖"
      ]
     },
     "metadata": {},
     "output_type": "display_data"
    },
    {
     "name": "stdout",
     "output_type": "stream",
     "text": [
      "After twice the normal number of iterations:\n"
     ]
    },
    {
     "data": {
      "application/json": "{\"QubitIds\":[0,1,2],\"NQubits\":3,\"Amplitudes\":[{\"Real\":-0.375650477505354,\"Imaginary\":0.0,\"Magnitude\":0.375650477505354,\"Phase\":3.141592653589793},{\"Real\":-0.375650477505354,\"Imaginary\":0.0,\"Magnitude\":0.375650477505354,\"Phase\":3.141592653589793},{\"Real\":-0.375650477505354,\"Imaginary\":0.0,\"Magnitude\":0.375650477505354,\"Phase\":3.141592653589793},{\"Real\":-0.375650477505354,\"Imaginary\":0.0,\"Magnitude\":0.375650477505354,\"Phase\":3.141592653589793},{\"Real\":-0.375650477505354,\"Imaginary\":0.0,\"Magnitude\":0.375650477505354,\"Phase\":3.141592653589793},{\"Real\":-0.3756504775053541,\"Imaginary\":0.0,\"Magnitude\":0.3756504775053541,\"Phase\":3.141592653589793},{\"Real\":-0.11048543456039839,\"Imaginary\":0.0,\"Magnitude\":0.11048543456039839,\"Phase\":3.141592653589793},{\"Real\":-0.3756504775053542,\"Imaginary\":0.0,\"Magnitude\":0.3756504775053542,\"Phase\":3.141592653589793}]}",
      "text/html": [
       "\r\n",
       "                    <table style=\"table-layout: fixed; width: 100%\">\r\n",
       "                        <thead>\r\n",
       "                            \r\n",
       "                        <tr>\r\n",
       "                            <th>Qubit IDs</th>\r\n",
       "                            <td span=\"3\">0, 1, 2</td>\r\n",
       "                        </tr>\r\n",
       "                    \r\n",
       "                            <tr>\r\n",
       "                                <th style=\"width: 20ch)\">Basis state (little endian)</th>\r\n",
       "                                <th style=\"width: 20ch\">Amplitude</th>\r\n",
       "                                <th style=\"width: calc(100% - 26ch - 20ch)\">Meas. Pr.</th>\r\n",
       "                                <th style=\"width: 6ch\">Phase</th>\r\n",
       "                            </tr>\r\n",
       "                        </thead>\r\n",
       "\r\n",
       "                        <tbody>\r\n",
       "                            \r\n",
       "                            <tr>\r\n",
       "                                <td>$\\left|0\\right\\rangle$</td>\r\n",
       "                                <td>$-0.3757 + 0.0000 i$</td>\r\n",
       "                                <td>\r\n",
       "                                    <progress\r\n",
       "                                        max=\"100\"\r\n",
       "                                        value=\"14.11132812500005\"\r\n",
       "                                        style=\"width: 100%;\"\r\n",
       "                                    >\r\n",
       "                                </td>\r\n",
       "                                <td style=\"transform: rotate(180deg);\r\n",
       "                   text-align: center;\">\r\n",
       "                                    ↑\r\n",
       "                                </td>\r\n",
       "                            </tr>\r\n",
       "                        \n",
       "\r\n",
       "                            <tr>\r\n",
       "                                <td>$\\left|1\\right\\rangle$</td>\r\n",
       "                                <td>$-0.3757 + 0.0000 i$</td>\r\n",
       "                                <td>\r\n",
       "                                    <progress\r\n",
       "                                        max=\"100\"\r\n",
       "                                        value=\"14.11132812500005\"\r\n",
       "                                        style=\"width: 100%;\"\r\n",
       "                                    >\r\n",
       "                                </td>\r\n",
       "                                <td style=\"transform: rotate(180deg);\r\n",
       "                   text-align: center;\">\r\n",
       "                                    ↑\r\n",
       "                                </td>\r\n",
       "                            </tr>\r\n",
       "                        \n",
       "\r\n",
       "                            <tr>\r\n",
       "                                <td>$\\left|2\\right\\rangle$</td>\r\n",
       "                                <td>$-0.3757 + 0.0000 i$</td>\r\n",
       "                                <td>\r\n",
       "                                    <progress\r\n",
       "                                        max=\"100\"\r\n",
       "                                        value=\"14.11132812500005\"\r\n",
       "                                        style=\"width: 100%;\"\r\n",
       "                                    >\r\n",
       "                                </td>\r\n",
       "                                <td style=\"transform: rotate(180deg);\r\n",
       "                   text-align: center;\">\r\n",
       "                                    ↑\r\n",
       "                                </td>\r\n",
       "                            </tr>\r\n",
       "                        \n",
       "\r\n",
       "                            <tr>\r\n",
       "                                <td>$\\left|3\\right\\rangle$</td>\r\n",
       "                                <td>$-0.3757 + 0.0000 i$</td>\r\n",
       "                                <td>\r\n",
       "                                    <progress\r\n",
       "                                        max=\"100\"\r\n",
       "                                        value=\"14.11132812500005\"\r\n",
       "                                        style=\"width: 100%;\"\r\n",
       "                                    >\r\n",
       "                                </td>\r\n",
       "                                <td style=\"transform: rotate(180deg);\r\n",
       "                   text-align: center;\">\r\n",
       "                                    ↑\r\n",
       "                                </td>\r\n",
       "                            </tr>\r\n",
       "                        \n",
       "\r\n",
       "                            <tr>\r\n",
       "                                <td>$\\left|4\\right\\rangle$</td>\r\n",
       "                                <td>$-0.3757 + 0.0000 i$</td>\r\n",
       "                                <td>\r\n",
       "                                    <progress\r\n",
       "                                        max=\"100\"\r\n",
       "                                        value=\"14.11132812500005\"\r\n",
       "                                        style=\"width: 100%;\"\r\n",
       "                                    >\r\n",
       "                                </td>\r\n",
       "                                <td style=\"transform: rotate(180deg);\r\n",
       "                   text-align: center;\">\r\n",
       "                                    ↑\r\n",
       "                                </td>\r\n",
       "                            </tr>\r\n",
       "                        \n",
       "\r\n",
       "                            <tr>\r\n",
       "                                <td>$\\left|5\\right\\rangle$</td>\r\n",
       "                                <td>$-0.3757 + 0.0000 i$</td>\r\n",
       "                                <td>\r\n",
       "                                    <progress\r\n",
       "                                        max=\"100\"\r\n",
       "                                        value=\"14.111328125000053\"\r\n",
       "                                        style=\"width: 100%;\"\r\n",
       "                                    >\r\n",
       "                                </td>\r\n",
       "                                <td style=\"transform: rotate(180deg);\r\n",
       "                   text-align: center;\">\r\n",
       "                                    ↑\r\n",
       "                                </td>\r\n",
       "                            </tr>\r\n",
       "                        \n",
       "\r\n",
       "                            <tr>\r\n",
       "                                <td>$\\left|6\\right\\rangle$</td>\r\n",
       "                                <td>$-0.1105 + 0.0000 i$</td>\r\n",
       "                                <td>\r\n",
       "                                    <progress\r\n",
       "                                        max=\"100\"\r\n",
       "                                        value=\"1.2207031250000075\"\r\n",
       "                                        style=\"width: 100%;\"\r\n",
       "                                    >\r\n",
       "                                </td>\r\n",
       "                                <td style=\"transform: rotate(180deg);\r\n",
       "                   text-align: center;\">\r\n",
       "                                    ↑\r\n",
       "                                </td>\r\n",
       "                            </tr>\r\n",
       "                        \n",
       "\r\n",
       "                            <tr>\r\n",
       "                                <td>$\\left|7\\right\\rangle$</td>\r\n",
       "                                <td>$-0.3757 + 0.0000 i$</td>\r\n",
       "                                <td>\r\n",
       "                                    <progress\r\n",
       "                                        max=\"100\"\r\n",
       "                                        value=\"14.11132812500006\"\r\n",
       "                                        style=\"width: 100%;\"\r\n",
       "                                    >\r\n",
       "                                </td>\r\n",
       "                                <td style=\"transform: rotate(180deg);\r\n",
       "                   text-align: center;\">\r\n",
       "                                    ↑\r\n",
       "                                </td>\r\n",
       "                            </tr>\r\n",
       "                        \r\n",
       "                        </tbody>\r\n",
       "                    </table>\r\n",
       "                "
      ],
      "text/plain": [
       "|0⟩\t-0.375650477505354 + 0𝑖\n",
       "|1⟩\t-0.375650477505354 + 0𝑖\n",
       "|2⟩\t-0.375650477505354 + 0𝑖\n",
       "|3⟩\t-0.375650477505354 + 0𝑖\n",
       "|4⟩\t-0.375650477505354 + 0𝑖\n",
       "|5⟩\t-0.3756504775053541 + 0𝑖\n",
       "|6⟩\t-0.11048543456039839 + 0𝑖\n",
       "|7⟩\t-0.3756504775053542 + 0𝑖"
      ]
     },
     "metadata": {},
     "output_type": "display_data"
    },
    {
     "name": "stdout",
     "output_type": "stream",
     "text": [
      "Marked 6 and found 2.\n"
     ]
    },
    {
     "data": {
      "application/json": "{\"@type\":\"tuple\"}",
      "text/plain": [
       "()"
      ]
     },
     "execution_count": 8,
     "metadata": {},
     "output_type": "execute_result"
    }
   ],
   "source": [
    "%simulate RunGroverSearchLonger"
   ]
  },
  {
   "cell_type": "markdown",
   "metadata": {},
   "source": [
    "What you can see here is that if your continue reflecting the state past the ideal number of reflections you get that at twice the optimal number of reflections the marked state is the least likely to be measured (it has the smallest amplitude). This makes some sense as there is a lot of trigonometry involved in finding the optimum number of reflections such that you might see periodic features like this."
   ]
  },
  {
   "cell_type": "markdown",
   "metadata": {},
   "source": [
    "----\n",
    "### Exercise 10.6"
   ]
  },
  {
   "cell_type": "markdown",
   "metadata": {},
   "source": [
    "**Use `AssertOperationsEqualReferenced` to prove that applying the `T` operation four times does the same thing as applying `Z` once.**"
   ]
  },
  {
   "cell_type": "code",
   "execution_count": 9,
   "metadata": {},
   "outputs": [
    {
     "data": {
      "application/json": "[\"ProveFourTEqualsOneZ\"]",
      "text/html": [
       "<ul><li>ProveFourTEqualsOneZ</li></ul>"
      ],
      "text/plain": [
       "ProveFourTEqualsOneZ"
      ]
     },
     "execution_count": 9,
     "metadata": {},
     "output_type": "execute_result"
    }
   ],
   "source": [
    "open Microsoft.Quantum.Diagnostics;\n",
    "\n",
    "operation ProveFourTEqualsOneZ() : Unit {\n",
    "    AssertOperationsEqualReferenced(1,\n",
    "        ApplyToEachA(OperationPowA(T, 4), _),\n",
    "        ApplyToEachA(Z, _)\n",
    "    );\n",
    "}"
   ]
  },
  {
   "cell_type": "code",
   "execution_count": 10,
   "metadata": {},
   "outputs": [
    {
     "data": {
      "application/json": "{\"@type\":\"tuple\"}",
      "text/plain": [
       "()"
      ]
     },
     "execution_count": 10,
     "metadata": {},
     "output_type": "execute_result"
    }
   ],
   "source": [
    "%simulate ProveFourTEqualsOneZ"
   ]
  },
  {
   "cell_type": "markdown",
   "metadata": {},
   "source": [
    "**There's another operation `S` that can be thought of as the square root of `Z` (a 90° rotation about the s $Z$-axis); check that applying `T` twice is the same as applying `S` once.**"
   ]
  },
  {
   "cell_type": "code",
   "execution_count": 11,
   "metadata": {},
   "outputs": [
    {
     "data": {
      "application/json": "[\"ProveTwoTEqualsOneS\"]",
      "text/html": [
       "<ul><li>ProveTwoTEqualsOneS</li></ul>"
      ],
      "text/plain": [
       "ProveTwoTEqualsOneS"
      ]
     },
     "execution_count": 11,
     "metadata": {},
     "output_type": "execute_result"
    }
   ],
   "source": [
    "open Microsoft.Quantum.Diagnostics;\n",
    "\n",
    "operation ProveTwoTEqualsOneS() : Unit {\n",
    "    AssertOperationsEqualReferenced(1,\n",
    "        ApplyToEachA(OperationPowA(T, 2), _),\n",
    "        ApplyToEachA(S, _)\n",
    "    );\n",
    "}"
   ]
  },
  {
   "cell_type": "code",
   "execution_count": 12,
   "metadata": {},
   "outputs": [
    {
     "data": {
      "application/json": "{\"@type\":\"tuple\"}",
      "text/plain": [
       "()"
      ]
     },
     "execution_count": 12,
     "metadata": {},
     "output_type": "execute_result"
    }
   ],
   "source": [
    "%simulate ProveTwoTEqualsOneS"
   ]
  },
  {
   "cell_type": "markdown",
   "metadata": {},
   "source": [
    "----\n",
    "### Exercise 10.7"
   ]
  },
  {
   "cell_type": "markdown",
   "metadata": {},
   "source": [
    "**Why don't we need to reset the register of qubits allocated in `EstimateCcnotResources` as shown in Figure 10.10?**"
   ]
  },
  {
   "cell_type": "markdown",
   "metadata": {},
   "source": [
    "You don't need to reset the register because the `CCNOT` operation didn't do anything. Both control qubits were in the zero state, so that means the operation should do nothing.\n",
    "Put differently, the all-zeros state is an eigenstate of the `CCNOT` operation."
   ]
  },
  {
   "cell_type": "markdown",
   "metadata": {},
   "source": [
    "----\n",
    "### Exercise 10.8"
   ]
  },
  {
   "cell_type": "markdown",
   "metadata": {},
   "source": [
    "**How does the number of `T` operation calls change as you increase the number of control qubits? A rough trend is fine.**\n",
    "\n",
    "> **HINT:** As you saw above, a controlled-NOT operation with an arbitrary number of qubits can be written as `Controlled X(Most(qs), Tail(qs));`, using functions provided by the `Microsoft.Quantum.Arrays` namespace."
   ]
  },
  {
   "cell_type": "code",
   "execution_count": null,
   "metadata": {},
   "outputs": [],
   "source": [
    "open Microsoft.Quantum.Arrays;\n",
    "\n",
    "operation EstimateCNotScaling(numQubits : Int) : Unit{\n",
    "    using (register = Qubit[numQubits]) {\n",
    "        Controlled X(Most(register), Tail(register));\n",
    "    }\n",
    "}\n",
    "operation EstimateCNotScaling4() : Unit{\n",
    "    return EstimateCNotScaling(4);\n",
    "}\n",
    "\n",
    "operation EstimateCNotScaling5() : Unit{\n",
    "    return EstimateCNotScaling(5);\n",
    "}\n",
    "\n",
    "operation EstimateCNotScaling6() : Unit{\n",
    "    return EstimateCNotScaling(6);\n",
    "}\n",
    "\n",
    "operation EstimateCNotScaling7() : Unit{\n",
    "    return EstimateCNotScaling(7);\n",
    "}"
   ]
  },
  {
   "cell_type": "code",
   "execution_count": null,
   "metadata": {},
   "outputs": [],
   "source": [
    "%estimate EstimateCNotScaling4"
   ]
  },
  {
   "cell_type": "code",
   "execution_count": null,
   "metadata": {},
   "outputs": [],
   "source": [
    "%estimate EstimateCNotScaling5"
   ]
  },
  {
   "cell_type": "code",
   "execution_count": null,
   "metadata": {},
   "outputs": [],
   "source": [
    "%estimate EstimateCNotScaling6"
   ]
  },
  {
   "cell_type": "code",
   "execution_count": null,
   "metadata": {},
   "outputs": [],
   "source": [
    "%estimate EstimateCNotScaling7"
   ]
  },
  {
   "cell_type": "markdown",
   "metadata": {},
   "source": [
    "So the data we see for this correlation is as follows as pairs (# of qubits, # of `T` operations):\n",
    "\n",
    "| # of control qubits | # of `T` operation calls needed |\n",
    "|---|---|\n",
    "| 3 | 7 |\n",
    "| 4  | 21 |\n",
    "| 5 | 35 |\n",
    "| 6 | 49 |\n",
    "| 7 | 63 |\n",
    "\n",
    "What you can see here is that the more control qubits you have on an operation, the more `T` operations are needed to implement it."
   ]
  },
  {
   "cell_type": "markdown",
   "metadata": {},
   "source": [
    "----\n",
    "### Epilogue\n",
    "\n",
    "_The following cell logs what version of the components this was last tested with._"
   ]
  },
  {
   "cell_type": "code",
   "execution_count": null,
   "metadata": {},
   "outputs": [],
   "source": [
    "%version"
   ]
  },
  {
   "cell_type": "code",
   "execution_count": null,
   "metadata": {},
   "outputs": [],
   "source": []
  }
 ],
 "metadata": {
  "kernelspec": {
   "display_name": "Q#",
   "language": "qsharp",
   "name": "iqsharp"
  },
  "language_info": {
   "file_extension": ".qs",
   "mimetype": "text/x-qsharp",
   "name": "qsharp",
   "version": "0.10"
  }
 },
 "nbformat": 4,
 "nbformat_minor": 4
}
