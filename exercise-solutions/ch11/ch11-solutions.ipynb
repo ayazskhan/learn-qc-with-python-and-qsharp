{
 "cells": [
  {
   "cell_type": "markdown",
   "metadata": {},
   "source": [
    "# Exercise solutions for Chapter 11:\n",
    "## [Learn Quantum Computing with Python and Q#](https://www.manning.com/books/learn-quantum-computing-with-python-and-q-sharp?a_aid=learn-qc-granade&a_bid=ee23f338)\n",
    "----"
   ]
  },
  {
   "cell_type": "markdown",
   "metadata": {},
   "source": [
    "\n",
    "### Exercise 11.1 "
   ]
  },
  {
   "cell_type": "markdown",
   "metadata": {},
   "source": [
    "What are the powers of $11$ when computed$\\mod 21$?"
   ]
  },
  {
   "cell_type": "code",
   "execution_count": 59,
   "metadata": {},
   "outputs": [
    {
     "data": {
      "application/json": "[\"Powers\",\"PowersOf11Mod21\"]",
      "text/html": [
       "<ul><li>Powers</li><li>PowersOf11Mod21</li></ul>"
      ],
      "text/plain": [
       "Powers, PowersOf11Mod21"
      ]
     },
     "execution_count": 59,
     "metadata": {},
     "output_type": "execute_result"
    }
   ],
   "source": [
    "open Microsoft.Quantum.Arrays;\n",
    "open Microsoft.Quantum.Logical;\n",
    "\n",
    "function Powers(generator : Int, modulus : Int) : Int[] {\n",
    "    mutable powers = [1];\n",
    "    mutable acc = generator;\n",
    "    \n",
    "    while (acc != 1) {\n",
    "        set powers += [acc];\n",
    "        set acc = acc * generator % modulus;\n",
    "    }\n",
    "    \n",
    "    return powers;\n",
    "}\n",
    "\n",
    "function PowersOf11Mod21(): Int[] {\n",
    "    return Powers(11, 21);\n",
    "}"
   ]
  },
  {
   "cell_type": "code",
   "execution_count": 60,
   "metadata": {},
   "outputs": [
    {
     "data": {
      "application/json": "[1,11,16,8,4,2]",
      "text/html": [
       "<ul><li>1</li><li>11</li><li>16</li><li>8</li><li>4</li><li>2</li></ul>"
      ],
      "text/plain": [
       "1, 11, 16, 8, 4, 2"
      ]
     },
     "execution_count": 60,
     "metadata": {},
     "output_type": "execute_result"
    }
   ],
   "source": [
    "%simulate PowersOf11Mod21"
   ]
  },
  {
   "cell_type": "markdown",
   "metadata": {},
   "source": [
    "How long does it take to loop back around to $11^0 = 1$?"
   ]
  },
  {
   "cell_type": "markdown",
   "metadata": {},
   "source": [
    "Does it matter if you take the modulus by $21$ at the end, or whether you compute the modulus at each step?"
   ]
  },
  {
   "cell_type": "markdown",
   "metadata": {},
   "source": [
    "----\n",
    "### Exercise 11.2"
   ]
  },
  {
   "cell_type": "markdown",
   "metadata": {},
   "source": [
    "Using either Python or Q#, try showing that one or both of the potential factor candidates from the last step of Shor's algorithm share factors with the modulus. Use $N = 143$, $g = 19$, and the period $r = 60$."
   ]
  },
  {
   "cell_type": "markdown",
   "metadata": {},
   "source": [
    "So step 6 of Shor's Algorithim is:\n",
    "> 6. Either $g^{\\frac{r}{2}} - 1$ or $g^{\\frac{r}{2}} + 1$ shares a factor with $N$."
   ]
  },
  {
   "cell_type": "code",
   "execution_count": 68,
   "metadata": {},
   "outputs": [
    {
     "data": {
      "application/json": "[\"ExerciseFact\",\"SharedFactorsFact\"]",
      "text/html": [
       "<ul><li>ExerciseFact</li><li>SharedFactorsFact</li></ul>"
      ],
      "text/plain": [
       "ExerciseFact, SharedFactorsFact"
      ]
     },
     "execution_count": 68,
     "metadata": {},
     "output_type": "execute_result"
    }
   ],
   "source": [
    "open Microsoft.Quantum.Diagnostics;\n",
    "open Microsoft.Quantum.Math;\n",
    "\n",
    "function SharedFactorsFact(generator : Int, modulus : Int, period : Int) : Unit {\n",
    "    let halfPower = ExpModI(generator, period / 2, modulus);\n",
    "    Fact(\n",
    "        not IsCoprimeI(modulus, halfPower + 1 % modulus) or\n",
    "        not IsCoprimeI(modulus, halfPower - 1 % modulus)\n",
    "    , $\"Neither {generator}^({period} / 2) + 1 or {generator}^({period} / 2) - 1 shares a factor with {modulus}.\");\n",
    "    \n",
    "}\n",
    "\n",
    "function ExerciseFact() : Unit {\n",
    "    SharedFactorsFact(19, 143, 60);\n",
    "}"
   ]
  },
  {
   "cell_type": "code",
   "execution_count": 69,
   "metadata": {},
   "outputs": [
    {
     "data": {
      "application/json": "{\"@type\":\"tuple\"}",
      "text/plain": [
       "()"
      ]
     },
     "execution_count": 69,
     "metadata": {},
     "output_type": "execute_result"
    }
   ],
   "source": [
    "%simulate ExerciseFact"
   ]
  },
  {
   "cell_type": "markdown",
   "metadata": {},
   "source": [
    "----\n",
    "### Exercise 11.3"
   ]
  },
  {
   "cell_type": "markdown",
   "metadata": {},
   "source": [
    "----\n",
    "### Exercise 11.4"
   ]
  },
  {
   "cell_type": "code",
   "execution_count": null,
   "metadata": {},
   "outputs": [],
   "source": []
  },
  {
   "cell_type": "markdown",
   "metadata": {},
   "source": [
    "----\n",
    "### Exercise 11.5"
   ]
  },
  {
   "cell_type": "code",
   "execution_count": null,
   "metadata": {},
   "outputs": [],
   "source": []
  },
  {
   "cell_type": "markdown",
   "metadata": {},
   "source": [
    "<details> Multiplying by three mod nine is not reversible.\n",
    "For instance, both one times three and four times three mod nine give zero, even though one and four aren't equal mod nine.\n",
    "Since classical functions have to be reversible in order to be represented by quantum operations, the `MultiplyByModularInteger` raises an error in this case. <summary> Expand this for the decoded anwser </summary></details>\n",
    "   "
   ]
  },
  {
   "cell_type": "markdown",
   "metadata": {},
   "source": [
    "----\n",
    "_The following cell logs what version of the components this was last tested with._"
   ]
  },
  {
   "cell_type": "code",
   "execution_count": 1,
   "metadata": {},
   "outputs": [
    {
     "data": {
      "application/json": "{\"rows\":[{\"@type\":\"@tuple\",\"Item1\":\"iqsharp\",\"Item2\":\"0.11.2003.3107\"},{\"@type\":\"@tuple\",\"Item1\":\"Jupyter Core\",\"Item2\":\"1.2.36563.0\"},{\"@type\":\"@tuple\",\"Item1\":\".NET Runtime\",\"Item2\":\".NETCoreApp,Version=v3.1\"}]}",
      "text/html": [
       "<table><thead><tr><th>Component</th><th>Version</th></tr></thead><tbody><tr><td>iqsharp</td><td>0.11.2003.3107</td></tr><tr><td>Jupyter Core</td><td>1.2.36563.0</td></tr><tr><td>.NET Runtime</td><td>.NETCoreApp,Version=v3.1</td></tr></tbody></table>"
      ],
      "text/plain": [
       "Component    Version\r\n",
       "------------ ------------------------\r\n",
       "iqsharp      0.11.2003.3107\r\n",
       "Jupyter Core 1.2.36563.0\r\n",
       ".NET Runtime .NETCoreApp,Version=v3.1\r\n"
      ]
     },
     "metadata": {},
     "output_type": "display_data"
    }
   ],
   "source": [
    "%version"
   ]
  }
 ],
 "metadata": {
  "kernelspec": {
   "display_name": "Q#",
   "language": "qsharp",
   "name": "iqsharp"
  },
  "language_info": {
   "file_extension": ".qs",
   "mimetype": "text/x-qsharp",
   "name": "qsharp",
   "version": "0.10"
  }
 },
 "nbformat": 4,
 "nbformat_minor": 4
}
