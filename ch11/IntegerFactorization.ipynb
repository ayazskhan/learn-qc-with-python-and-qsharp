{
 "cells": [
  {
   "cell_type": "code",
   "execution_count": 8,
   "metadata": {},
   "outputs": [
    {
     "data": {
      "application/json": "[\"Foo\"]",
      "text/html": [
       "<ul><li>Foo</li></ul>"
      ],
      "text/plain": [
       "Foo"
      ]
     },
     "execution_count": 8,
     "metadata": {},
     "output_type": "execute_result"
    }
   ],
   "source": [
    "open IntegerFactorization;\n",
    "\n",
    "operation Foo() : (Int, Int) {\n",
    "    return FindSemiPrimeFactors(25);\n",
    "}    "
   ]
  },
  {
   "cell_type": "code",
   "execution_count": 9,
   "metadata": {},
   "outputs": [
    {
     "name": "stdout",
     "output_type": "stream",
     "text": [
      "Estimating period of 17\n",
      "Estimating period of 1\n",
      "Estimating period of 12\n",
      "Estimating period of 11\n",
      "We have guessed a divisor of 25 to be 5 by accident.\n"
     ]
    },
    {
     "data": {
      "application/json": "{\"@type\":\"@tuple\",\"Item1\":5,\"Item2\":5}",
      "text/plain": [
       "(5, 5)"
      ]
     },
     "execution_count": 9,
     "metadata": {},
     "output_type": "execute_result"
    }
   ],
   "source": [
    "%simulate Foo"
   ]
  },
  {
   "cell_type": "code",
   "execution_count": 3,
   "metadata": {},
   "outputs": [
    {
     "data": {
      "application/json": "[\"IntegerFactorization.ApplyOrderFindingOracle\",\"IntegerFactorization.EstimateFrequency\",\"IntegerFactorization.EstimatePeriod\",\"IntegerFactorization.FindSemiPrimeFactors\",\"IntegerFactorization.IsPeriodFactor\",\"IntegerFactorization.PeriodFromFrequency\"]",
      "text/html": [
       "<ul><li>IntegerFactorization.ApplyOrderFindingOracle</li><li>IntegerFactorization.EstimateFrequency</li><li>IntegerFactorization.EstimatePeriod</li><li>IntegerFactorization.FindSemiPrimeFactors</li><li>IntegerFactorization.IsPeriodFactor</li><li>IntegerFactorization.PeriodFromFrequency</li></ul>"
      ],
      "text/plain": [
       "IntegerFactorization.ApplyOrderFindingOracle, IntegerFactorization.EstimateFrequency, IntegerFactorization.EstimatePeriod, IntegerFactorization.FindSemiPrimeFactors, IntegerFactorization.IsPeriodFactor, IntegerFactorization.PeriodFromFrequency"
      ]
     },
     "execution_count": 3,
     "metadata": {},
     "output_type": "execute_result"
    }
   ],
   "source": [
    "%workspace reload"
   ]
  },
  {
   "cell_type": "code",
   "execution_count": 10,
   "metadata": {},
   "outputs": [
    {
     "data": {
      "application/json": "{\"rows\":[{\"@type\":\"@tuple\",\"Item1\":\"iqsharp\",\"Item2\":\"0.11.2003.3107\"},{\"@type\":\"@tuple\",\"Item1\":\"Jupyter Core\",\"Item2\":\"1.2.36563.0\"},{\"@type\":\"@tuple\",\"Item1\":\".NET Runtime\",\"Item2\":\".NETCoreApp,Version=v3.1\"}]}",
      "text/html": [
       "<table><thead><tr><th>Component</th><th>Version</th></tr></thead><tbody><tr><td>iqsharp</td><td>0.11.2003.3107</td></tr><tr><td>Jupyter Core</td><td>1.2.36563.0</td></tr><tr><td>.NET Runtime</td><td>.NETCoreApp,Version=v3.1</td></tr></tbody></table>"
      ],
      "text/plain": [
       "Component    Version\r\n",
       "------------ ------------------------\r\n",
       "iqsharp      0.11.2003.3107\r\n",
       "Jupyter Core 1.2.36563.0\r\n",
       ".NET Runtime .NETCoreApp,Version=v3.1\r\n"
      ]
     },
     "metadata": {},
     "output_type": "display_data"
    }
   ],
   "source": [
    "%version"
   ]
  },
  {
   "cell_type": "code",
   "execution_count": null,
   "metadata": {},
   "outputs": [],
   "source": []
  }
 ],
 "metadata": {
  "kernelspec": {
   "display_name": "Q#",
   "language": "qsharp",
   "name": "iqsharp"
  },
  "language_info": {
   "file_extension": ".qs",
   "mimetype": "text/x-qsharp",
   "name": "qsharp",
   "version": "0.10"
  }
 },
 "nbformat": 4,
 "nbformat_minor": 4
}
